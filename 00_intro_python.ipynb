{
  "nbformat": 4,
  "nbformat_minor": 0,
  "metadata": {
    "colab": {
      "provenance": [],
      "authorship_tag": "ABX9TyN/wJjxIvStnXmofS2V8aQy",
      "include_colab_link": true
    },
    "kernelspec": {
      "name": "python3",
      "display_name": "Python 3"
    },
    "language_info": {
      "name": "python"
    }
  },
  "cells": [
    {
      "cell_type": "markdown",
      "metadata": {
        "id": "view-in-github",
        "colab_type": "text"
      },
      "source": [
        "<a href=\"https://colab.research.google.com/github/Rumaisa008/q3-projects/blob/main/00_intro_python.ipynb\" target=\"_parent\"><img src=\"https://colab.research.google.com/assets/colab-badge.svg\" alt=\"Open In Colab\"/></a>"
      ]
    },
    {
      "cell_type": "code",
      "source": [
        "print(\"01_add_two_numbers\")\n",
        "\n",
        "def add():\n",
        "    print(\"This application for add two numbers\")\n",
        "    first_number = int(input(\"Enter your first number. \"))\n",
        "    second_number = int(input(\"Enter your second number. \"))\n",
        "    total = int(first_number + second_number)\n",
        "    print(f'The total sum of {first_number} and {second_number} is {total}')\n",
        "\n",
        "if __name__ == \"__main__\":\n",
        "    add()"
      ],
      "metadata": {
        "colab": {
          "base_uri": "https://localhost:8080/"
        },
        "id": "JaoZ5X3d6Y1n",
        "outputId": "914517d7-fb7d-48d8-8b9f-85a4510ebbc4"
      },
      "execution_count": null,
      "outputs": [
        {
          "output_type": "stream",
          "name": "stdout",
          "text": [
            "01_add_two_numbers\n",
            "This application for add two numbers\n",
            "Enter your first number. 5\n",
            "Enter your second number. 3\n",
            "The total sum of 5 and 3 is 8\n"
          ]
        }
      ]
    },
    {
      "cell_type": "code",
      "source": [
        "print(\"02_agreement_bot\")\n",
        "def bot():\n",
        "    animal = str(input(\"What is your favourite animal? \"))\n",
        "    print(f'My favourite animal is also {animal}!')\n",
        "\n",
        "if __name__ == '__main__':\n",
        "    bot()"
      ],
      "metadata": {
        "colab": {
          "base_uri": "https://localhost:8080/"
        },
        "id": "Inls_gr86eaT",
        "outputId": "175fa205-c74d-4d5f-f1ee-14cf4898fa9b"
      },
      "execution_count": null,
      "outputs": [
        {
          "output_type": "stream",
          "name": "stdout",
          "text": [
            "02_agreement_bot\n",
            "What is your favourite animal? Cat\n",
            "My favourite animal is also Cat!\n"
          ]
        }
      ]
    },
    {
      "cell_type": "code",
      "source": [
        "print(\"03_fahrenheit_to_celsius\")\n",
        "def temp():\n",
        "  print(\"This code for converting fahrenheit to celsisus\")\n",
        "  fahrenheit_degree = float (input(\"Enter your fahrenheit degree. \"))\n",
        "  celsisus_degree = (fahrenheit_degree - 32 * 5.0/9.0)\n",
        "  print(f'Tempertaure {fahrenheit_degree} F = {celsisus_degree} C')\n",
        "\n",
        "if __name__ == \"__main__\":\n",
        "  temp()"
      ],
      "metadata": {
        "colab": {
          "base_uri": "https://localhost:8080/"
        },
        "id": "Lq0ZPypp-dqd",
        "outputId": "e0801a1b-a734-4cdc-ff9e-281a70547269"
      },
      "execution_count": null,
      "outputs": [
        {
          "output_type": "stream",
          "name": "stdout",
          "text": [
            "03_fahrenheit_to_celsius\n",
            "This code for converting fahrenheit to celsisus\n",
            "Enter your fahrenheit degree. 35\n",
            "Tempertaure 35.0 F = 17.22222222222222 C\n"
          ]
        }
      ]
    },
    {
      "cell_type": "code",
      "source": [
        "print(\"04_how_old_are_they\")\n",
        "\n",
        "def add_ages():\n",
        "  anthon:int = 21\n",
        "  beth:int = anthon + 6\n",
        "  chen:int = beth + 20\n",
        "  drew:int = chen + anthon\n",
        "  ethan:int = chen\n",
        "  print(\"Anthon is \" + str(anthon))\n",
        "  print(\"Beth is \" + str(beth))\n",
        "  print(\"Chen is \" + str(chen))\n",
        "  print(\"Drew is \" + str(drew))\n",
        "  print(\"Ethan is \" + str(ethan))\n",
        "\n",
        "\n",
        "if __name__ == \"__main__\":\n",
        "  add_ages()"
      ],
      "metadata": {
        "colab": {
          "base_uri": "https://localhost:8080/"
        },
        "id": "jjz49gsb-geB",
        "outputId": "28af1e97-a7f0-4b09-e4bb-28650f09f6a0"
      },
      "execution_count": null,
      "outputs": [
        {
          "output_type": "stream",
          "name": "stdout",
          "text": [
            "04_how_old_are_they\n",
            "Anthon is 21\n",
            "Beth is 27\n",
            "Chen is 47\n",
            "Drew is 68\n",
            "Ethan is 47\n"
          ]
        }
      ]
    },
    {
      "cell_type": "code",
      "source": [
        "print(\"05_triangle_perimeter2\")\n",
        "\n",
        "def triangle():\n",
        "    print(\"This code is about perimeter of triangle.\")\n",
        "\n",
        "    side1 = float(input(\"Enter the first side of the triangle: \"))\n",
        "    side2 = float(input(\"Enter the second side of the triangle: \"))\n",
        "    side3 = float(input(\"Enter the third side of the triangle: \"))\n",
        "    total = side1 + side2 + side3\n",
        "    print(f\"The perimeter of the triangle is {total}\")\n",
        "\n",
        "if __name__ == \"__main__\":\n",
        "    triangle()"
      ],
      "metadata": {
        "colab": {
          "base_uri": "https://localhost:8080/"
        },
        "id": "jIcqGsgj-lQu",
        "outputId": "06c3d185-34c3-49ae-86e4-300e0f6da28b"
      },
      "execution_count": null,
      "outputs": [
        {
          "output_type": "stream",
          "name": "stdout",
          "text": [
            "05_triangle_perimeter2\n",
            "This code is about perimeter of triangle.\n",
            "Enter the first side of the triangle: 4\n",
            "Enter the second side of the triangle: 3\n",
            "Enter the third side of the triangle: 3\n",
            "The perimeter of the triangle is 10.0\n"
          ]
        }
      ]
    },
    {
      "cell_type": "code",
      "source": [
        "print(\"06_square_number\")\n",
        "\n",
        "def square():\n",
        "    print(\"This code is about square of given number\")\n",
        "    num1: int = int(input(\"Enter any number and I will give you its square: \"))\n",
        "    print(f\"The square of {num1} is {num1 ** 2}\")\n",
        "\n",
        "if __name__ == \"__main__\":\n",
        "    square()"
      ],
      "metadata": {
        "colab": {
          "base_uri": "https://localhost:8080/"
        },
        "id": "fARdcNoY-swz",
        "outputId": "5220aae7-4eb3-49a1-af52-118ac5c36d2f"
      },
      "execution_count": null,
      "outputs": [
        {
          "output_type": "stream",
          "name": "stdout",
          "text": [
            "06_square_number\n",
            "This code is about square of given number\n",
            "Enter any number and I will give you its square: 2\n",
            "The square of 2 is 4\n"
          ]
        }
      ]
    }
  ]
}